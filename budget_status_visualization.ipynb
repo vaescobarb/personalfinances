{
 "cells": [
  {
   "cell_type": "markdown",
   "id": "55cdc384",
   "metadata": {},
   "source": [
    "Create an example noteboook where you connect to azure and create plots for the budget status"
   ]
  },
  {
   "cell_type": "code",
   "execution_count": null,
   "id": "d2a0c7ea",
   "metadata": {},
   "outputs": [],
   "source": []
  }
 ],
 "metadata": {
  "language_info": {
   "name": "python"
  }
 },
 "nbformat": 4,
 "nbformat_minor": 5
}
