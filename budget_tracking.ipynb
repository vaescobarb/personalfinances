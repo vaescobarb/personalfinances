{
 "cells": [
  {
   "cell_type": "markdown",
   "metadata": {},
   "source": [
    "# Notebook to be transformed into a script"
   ]
  },
  {
   "cell_type": "markdown",
   "metadata": {},
   "source": [
    "This notebook will:\n",
    "- (1) Access Onedrive to get the latest money_manager file\n",
    "- (2) Access onedrive to get the specified budget file \n",
    "- (3) Create a file comparing actual expenses and how they compare to the budget "
   ]
  },
  {
   "cell_type": "code",
   "execution_count": null,
   "metadata": {},
   "outputs": [],
   "source": [
    "# Azure connections\n",
    "\n",
    "import logging\n",
    "import os\n",
    "import io\n",
    "from datetime import datetime\n",
    "import requests\n",
    "import msal\n",
    "import pandas as pd\n",
    "import azure.functions as func\n",
    "\n",
    "import yaml"
   ]
  },
  {
   "cell_type": "code",
   "execution_count": null,
   "metadata": {},
   "outputs": [],
   "source": [
    "import pandas as pd\n",
    "import matplotlib.pyplot as plt\n",
    "import matplotlib.cm as cm\n",
    "import numpy as np\n",
    "import os\n",
    "import calendar\n",
    "\n",
    "from datetime import datetime\n",
    "\n",
    "# Formatting excel file \n",
    "import os\n",
    "from openpyxl import load_workbook\n",
    "from openpyxl.styles import Border, Side, PatternFill\n",
    "from openpyxl.formatting.rule import CellIsRule\n",
    "\n",
    "from personal_finances_utilities import generate_date_tag, load_money_manager_file\n",
    "\n",
    "\n",
    "# Load the Excel file\n",
    "folder_path = 'D:/GitHub/personalfinances/money_manager_data'\n",
    "file_name = '2024-11-14.xlsx'\n",
    "file_path = os.path.join(folder_path, file_name)\n",
    "\n",
    "target_year = 2024\n",
    "\n"
   ]
  },
  {
   "cell_type": "code",
   "execution_count": null,
   "metadata": {},
   "outputs": [],
   "source": [
    "expenses_df, income_df = load_money_manager_file(file_path)"
   ]
  },
  {
   "cell_type": "code",
   "execution_count": null,
   "metadata": {},
   "outputs": [],
   "source": [
    "# Load credentials from YAML file\n",
    "with open('certifications.yaml', 'r') as file:\n",
    "    config = yaml.safe_load(file)\n",
    "\n",
    "CLIENT_ID = config['client_id']\n",
    "CLIENT_SECRET= config['client_secret']\n",
    "TENANT_ID = config['tenant_id']\n",
    "SCOPES = config['scopes']\n"
   ]
  },
  {
   "cell_type": "code",
   "execution_count": null,
   "metadata": {},
   "outputs": [],
   "source": [
    "def get_access_token(client_id, tenant_id, scopes):\n",
    "    authority = f\"https://login.microsoftonline.com/{tenant_id}\"\n",
    "    \n",
    "    app = msal.PublicClientApplication(\n",
    "        client_id=client_id,\n",
    "        authority=authority\n",
    "    )\n",
    "    \n",
    "    # Try to acquire token silently\n",
    "    accounts = app.get_accounts()\n",
    "    if accounts:\n",
    "        result = app.acquire_token_silent(scopes, account=accounts[0])\n",
    "    else:\n",
    "        result = None\n",
    "\n",
    "    if not result:\n",
    "        # Acquire token via Device Code Flow\n",
    "        flow = app.initiate_device_flow(scopes=scopes)\n",
    "        if not flow or 'user_code' not in flow:\n",
    "            error = flow.get('error')\n",
    "            error_description = flow.get('error_description')\n",
    "            raise Exception(f\"Failed to create device flow. Error: {error}, Description: {error_description}\")\n",
    "        \n",
    "        print(flow['message'])  # Instructions for the user\n",
    "        result = app.acquire_token_by_device_flow(flow)\n",
    "    \n",
    "    if 'access_token' in result:\n",
    "        return result['access_token']\n",
    "    else:\n",
    "        error_msg = result.get('error_description', 'Unknown error')\n",
    "        raise Exception(f\"Could not obtain access token: {error_msg}\")\n"
   ]
  },
  {
   "cell_type": "code",
   "execution_count": null,
   "metadata": {},
   "outputs": [],
   "source": [
    "# Obtain access token\n",
    "access_token = get_access_token(CLIENT_ID, TENANT_ID, SCOPES)"
   ]
  },
  {
   "cell_type": "code",
   "execution_count": null,
   "metadata": {},
   "outputs": [],
   "source": [
    "# onedrive_access.py (continued)\n",
    "import requests\n",
    "import urllib.parse\n",
    "\n",
    "# Set up headers\n",
    "headers = {\n",
    "    'Authorization': f'Bearer {access_token}'\n",
    "}\n",
    "\n",
    "# OneDrive API endpoint\n",
    "#drive_api_endpoint = 'https://graph.microsoft.com/v1.0/me/drive/root/children'\n",
    "\n",
    "subfolder_path = 'Documentos/PERSONAL FINANCES/money_manager_files'#2024-11-14.xlsx'\n",
    "\n",
    "# URL-encode the subfolder path\n",
    "encoded_subfolder_path = urllib.parse.quote(subfolder_path)\n",
    "drive_api_endpoint = f'https://graph.microsoft.com/v1.0/me/drive/root:/{encoded_subfolder_path}:/children'\n",
    "\n",
    "\n",
    "# Get the list of files\n",
    "response = requests.get(drive_api_endpoint, headers=headers)\n",
    "if response.status_code == 200:\n",
    "    files_data = response.json()\n",
    "    files = files_data.get('value', [])\n",
    "    # Print file names\n",
    "    print(\"Files in OneDrive Root Directory:\")\n",
    "    for file in files:\n",
    "        print(f\"{file['name']} - Last Modified: {file['lastModifiedDateTime']}\")\n",
    "else:\n",
    "    print(f\"Error retrieving files: {response.status_code}\")\n",
    "    print(response.json())"
   ]
  },
  {
   "cell_type": "code",
   "execution_count": null,
   "metadata": {},
   "outputs": [],
   "source": [
    "from datetime import datetime\n",
    "\n",
    "def get_latest_file(files):\n",
    "    latest_file = None\n",
    "    latest_time = None\n",
    "    for file in files:\n",
    "        file_time = datetime.strptime(file['lastModifiedDateTime'], '%Y-%m-%dT%H:%M:%SZ')\n",
    "        if not latest_time or file_time > latest_time:\n",
    "            latest_time = file_time\n",
    "            latest_file = file\n",
    "    return latest_file\n",
    "\n",
    "# Find the latest expense and budget files in the subfolder\n",
    "latest_expense_file = get_latest_file(files)\n",
    "\n",
    "print(\"\\nLatest Expense File:\")\n",
    "print(f\"{latest_expense_file['name']} - Last Modified: {latest_expense_file['lastModifiedDateTime']}\")\n"
   ]
  },
  {
   "cell_type": "code",
   "execution_count": null,
   "metadata": {},
   "outputs": [],
   "source": [
    "def download_file(file, headers):\n",
    "    file_id = file['id']\n",
    "    download_url = f\"https://graph.microsoft.com/v1.0/me/drive/items/{file_id}/content\"\n",
    "    response = requests.get(download_url, headers=headers)\n",
    "    if response.status_code == 200:\n",
    "        filename = file['name']\n",
    "        with open(filename, 'wb') as f:\n",
    "            f.write(response.content)\n",
    "        print(f\"Downloaded {filename}\")\n",
    "        return filename\n",
    "    else:\n",
    "        print(f\"Failed to download {file['name']}\")\n",
    "        return None\n",
    "\n",
    "# Download your files\n",
    "expense_file_name = download_file(latest_expense_file, headers)"
   ]
  },
  {
   "cell_type": "code",
   "execution_count": null,
   "metadata": {},
   "outputs": [],
   "source": [
    "expenses_df = pd.read_excel(expense_file_name)"
   ]
  },
  {
   "cell_type": "code",
   "execution_count": null,
   "metadata": {},
   "outputs": [],
   "source": [
    "expenses_df"
   ]
  },
  {
   "cell_type": "code",
   "execution_count": null,
   "metadata": {},
   "outputs": [],
   "source": []
  }
 ],
 "metadata": {
  "kernelspec": {
   "display_name": "myvirtualenvironment",
   "language": "python",
   "name": "python3"
  },
  "language_info": {
   "codemirror_mode": {
    "name": "ipython",
    "version": 3
   },
   "file_extension": ".py",
   "mimetype": "text/x-python",
   "name": "python",
   "nbconvert_exporter": "python",
   "pygments_lexer": "ipython3",
   "version": "3.12.7"
  }
 },
 "nbformat": 4,
 "nbformat_minor": 2
}
