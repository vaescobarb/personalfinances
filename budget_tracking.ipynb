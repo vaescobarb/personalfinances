{
 "cells": [
  {
   "cell_type": "markdown",
   "metadata": {},
   "source": [
    "# Notebook to be transformed into a script"
   ]
  },
  {
   "cell_type": "code",
   "execution_count": 1,
   "metadata": {},
   "outputs": [],
   "source": [
    "# Azure connections\n",
    "\n",
    "import logging\n",
    "import os\n",
    "import io\n",
    "from datetime import datetime\n",
    "import requests\n",
    "import msal\n",
    "import pandas as pd\n",
    "import azure.functions as func"
   ]
  },
  {
   "cell_type": "code",
   "execution_count": 1,
   "metadata": {},
   "outputs": [],
   "source": [
    "import pandas as pd\n",
    "import matplotlib.pyplot as plt\n",
    "import matplotlib.cm as cm\n",
    "import numpy as np\n",
    "import os\n",
    "import calendar\n",
    "\n",
    "from datetime import datetime\n",
    "\n",
    "# Formatting excel file \n",
    "import os\n",
    "from openpyxl import load_workbook\n",
    "from openpyxl.styles import Border, Side, PatternFill\n",
    "from openpyxl.formatting.rule import CellIsRule\n",
    "\n",
    "from personal_finances_utilities import generate_date_tag, load_money_manager_file\n",
    "\n",
    "\n",
    "# Load the Excel file\n",
    "folder_path = 'D:/GitHub/personalfinances/money_manager_data'\n",
    "file_name = '2024-11-14.xlsx'\n",
    "file_path = os.path.join(folder_path, file_name)\n",
    "\n",
    "target_year = 2024\n",
    "\n"
   ]
  },
  {
   "cell_type": "code",
   "execution_count": 2,
   "metadata": {},
   "outputs": [],
   "source": [
    "expenses_df, income_df = load_money_manager_file(file_path)"
   ]
  },
  {
   "cell_type": "code",
   "execution_count": 3,
   "metadata": {},
   "outputs": [],
   "source": [
    "def get_access_token():\n",
    "    client_id = os.environ.get('CLIENT_ID')\n",
    "    client_secret = os.environ.get('CLIENT_SECRET')\n",
    "    tenant_id = os.environ.get('TENANT_ID')\n",
    "\n",
    "    authority = f'https://login.microsoftonline.com/{tenant_id}'\n",
    "    scopes = ['https://graph.microsoft.com/.default']\n",
    "\n",
    "    app = msal.ConfidentialClientApplication(\n",
    "        client_id=client_id,\n",
    "        client_credential=client_secret,\n",
    "        authority=authority\n",
    "    )\n",
    "\n",
    "    result = app.acquire_token_silent(scopes, account=None)\n",
    "    if not result:\n",
    "        result = app.acquire_token_for_client(scopes=scopes)\n",
    "\n",
    "    if \"access_token\" in result:\n",
    "        return result['access_token']\n",
    "    else:\n",
    "        logging.error(f\"Failed to obtain access token: {result.get('error_description')}\")\n",
    "        return None\n",
    "    \n"
   ]
  },
  {
   "cell_type": "code",
   "execution_count": null,
   "metadata": {},
   "outputs": [],
   "source": []
  }
 ],
 "metadata": {
  "kernelspec": {
   "display_name": "myvirtualenvironment",
   "language": "python",
   "name": "python3"
  },
  "language_info": {
   "codemirror_mode": {
    "name": "ipython",
    "version": 3
   },
   "file_extension": ".py",
   "mimetype": "text/x-python",
   "name": "python",
   "nbconvert_exporter": "python",
   "pygments_lexer": "ipython3",
   "version": "3.12.7"
  }
 },
 "nbformat": 4,
 "nbformat_minor": 2
}
