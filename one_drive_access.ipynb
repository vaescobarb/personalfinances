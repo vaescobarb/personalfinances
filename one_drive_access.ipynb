{
 "cells": [
  {
   "cell_type": "markdown",
   "metadata": {},
   "source": [
    "# Notebook to be transformed into a script"
   ]
  },
  {
   "cell_type": "markdown",
   "metadata": {},
   "source": [
    "This notebook will:\n",
    "- (1) Access Onedrive to get the latest money_manager file\n",
    "- (2) Access onedrive to get the specified budget file \n",
    "- (3) Create a file comparing actual expenses and how they compare to the budget "
   ]
  },
  {
   "cell_type": "code",
   "execution_count": null,
   "metadata": {},
   "outputs": [],
   "source": [
    "# Azure connections\n",
    "\n",
    "import logging\n",
    "import os\n",
    "import io\n",
    "from datetime import datetime\n",
    "import requests\n",
    "import msal\n",
    "import pandas as pd\n",
    "import azure.functions as func\n",
    "\n",
    "import yaml\n",
    "\n",
    "from auth_helper import get_access_token"
   ]
  },
  {
   "cell_type": "code",
   "execution_count": null,
   "metadata": {},
   "outputs": [],
   "source": [
    "import pandas as pd\n",
    "import matplotlib.pyplot as plt\n",
    "import matplotlib.cm as cm\n",
    "import numpy as np\n",
    "import os\n",
    "import calendar\n",
    "\n",
    "from datetime import datetime\n",
    "\n",
    "# Formatting excel file \n",
    "import os\n",
    "from openpyxl import load_workbook\n",
    "from openpyxl.styles import Border, Side, PatternFill\n",
    "from openpyxl.formatting.rule import CellIsRule\n",
    "\n",
    "from personal_finances_utilities import generate_date_tag, load_money_manager_file\n",
    "\n",
    "\n",
    "# Load the Excel file\n",
    "folder_path = 'D:/GitHub/personalfinances/money_manager_data'\n",
    "file_name = '2024-11-14.xlsx'\n",
    "file_path = os.path.join(folder_path, file_name)\n",
    "\n",
    "target_year = 2024"
   ]
  },
  {
   "cell_type": "code",
   "execution_count": null,
   "metadata": {},
   "outputs": [],
   "source": [
    "expenses_df, income_df = load_money_manager_file(file_path)"
   ]
  },
  {
   "cell_type": "code",
   "execution_count": null,
   "metadata": {},
   "outputs": [],
   "source": [
    "# Load credentials from YAML file\n",
    "with open('certifications.yaml', 'r') as file:\n",
    "    config = yaml.safe_load(file)\n",
    "\n",
    "CLIENT_ID = config['client_id']\n",
    "CLIENT_SECRET= config['client_secret']\n",
    "TENANT_ID = config['tenant_id']\n",
    "SCOPES = config['scopes']\n"
   ]
  },
  {
   "cell_type": "code",
   "execution_count": null,
   "metadata": {},
   "outputs": [],
   "source": [
    "# Obtain access token\n",
    "access_token = get_access_token(CLIENT_ID, TENANT_ID, SCOPES)"
   ]
  },
  {
   "cell_type": "code",
   "execution_count": null,
   "metadata": {},
   "outputs": [
    {
     "name": "stdout",
     "output_type": "stream",
     "text": [
      "Files in OneDrive Root Directory:\n",
      "2024-08-18.xlsx - Last Modified: 2024-08-18T16:33:48Z\n",
      "2024-09-04.xlsx - Last Modified: 2024-09-04T13:02:19Z\n",
      "2024-09-06.xlsx - Last Modified: 2024-09-06T10:01:24Z\n",
      "2024-09-07.xlsx - Last Modified: 2024-09-07T17:56:42Z\n",
      "2024-09-15.xlsx - Last Modified: 2024-09-15T19:54:26Z\n",
      "2024-09-22.xlsx - Last Modified: 2024-09-22T17:10:08Z\n",
      "2024-09-29.xlsx - Last Modified: 2024-09-29T17:33:11Z\n",
      "2024-11-10.xlsx - Last Modified: 2024-11-10T19:21:17Z\n",
      "2024-11-14.xlsx - Last Modified: 2024-11-14T19:15:30Z\n"
     ]
    }
   ],
   "source": [
    "import requests\n",
    "import urllib.parse\n",
    "\n",
    "# Set up headers\n",
    "headers = {\n",
    "    'Authorization': f'Bearer {access_token}'\n",
    "}\n",
    "\n",
    "# OneDrive API endpoint\n",
    "#drive_api_endpoint = 'https://graph.microsoft.com/v1.0/me/drive/root/children'\n",
    "\n",
    "subfolder_path = 'Documentos/PERSONAL FINANCES/money_manager_files'#2024-11-14.xlsx'\n",
    "budget_file_path = 'Documentos/PERSONAL FINANCES/budget_files'\n",
    "\n",
    "# URL-encode the subfolder path\n",
    "encoded_subfolder_path = urllib.parse.quote(subfolder_path)\n",
    "drive_api_endpoint = f'https://graph.microsoft.com/v1.0/me/drive/root:/{encoded_subfolder_path}:/children'\n",
    "\n",
    "\n",
    "# Get the list of files\n",
    "response = requests.get(drive_api_endpoint, headers=headers)\n",
    "if response.status_code == 200:\n",
    "    files_data = response.json()\n",
    "    files = files_data.get('value', [])\n",
    "    # Print file names\n",
    "    print(\"Files in OneDrive Root Directory:\")\n",
    "    for file in files:\n",
    "        print(f\"{file['name']} - Last Modified: {file['lastModifiedDateTime']}\")\n",
    "else:\n",
    "    print(f\"Error retrieving files: {response.status_code}\")\n",
    "    print(response.json())"
   ]
  },
  {
   "cell_type": "code",
   "execution_count": 11,
   "metadata": {},
   "outputs": [],
   "source": [
    "def get_files_and_dates(folder_path):\n",
    "    encoded_folder_path = urllib.parse.quote(folder_path)\n",
    "    drive_api_endpoint = f'https://graph.microsoft.com/v1.0/me/drive/root:/{encoded_folder_path}:/children'\n",
    "    # Get the list of files\n",
    "    response = requests.get(drive_api_endpoint, headers=headers)\n",
    "    if response.status_code == 200:\n",
    "        files_data = response.json()\n",
    "        files = files_data.get('value', [])\n",
    "        # Print file names\n",
    "        print(\"Files in OneDrive Root Directory:\")\n",
    "        for file in files:\n",
    "            print(f\"{file['name']} - Last Modified: {file['lastModifiedDateTime']}\")\n",
    "    else:\n",
    "        print(f\"Error retrieving files: {response.status_code}\")\n",
    "        print(response.json())\n",
    "\n",
    "    return files"
   ]
  },
  {
   "cell_type": "code",
   "execution_count": 15,
   "metadata": {},
   "outputs": [
    {
     "name": "stdout",
     "output_type": "stream",
     "text": [
      "Files in OneDrive Root Directory:\n",
      "2023_budget_norway.xlsx - Last Modified: 2024-10-13T15:19:24Z\n",
      "2024_budget_norway.xlsx - Last Modified: 2024-11-11T21:31:47Z\n",
      "2025_budget_norway - DRAFT.xlsx - Last Modified: 2024-11-17T11:54:48Z\n",
      "budget_2024_holidays.xlsx - Last Modified: 2024-03-03T21:19:08Z\n"
     ]
    }
   ],
   "source": [
    "files_budget = get_files_and_dates('Documentos/PERSONAL FINANCES/budget_files')\n",
    "latest_budget_file = get_latest_file(files_budget)"
   ]
  },
  {
   "cell_type": "code",
   "execution_count": 14,
   "metadata": {},
   "outputs": [
    {
     "name": "stdout",
     "output_type": "stream",
     "text": [
      "\n",
      "Latest Expense File:\n",
      "2024-11-14.xlsx - Last Modified: 2024-11-14T19:15:30Z\n"
     ]
    }
   ],
   "source": [
    "from datetime import datetime\n",
    "\n",
    "def get_latest_file(files):\n",
    "    latest_file = None\n",
    "    latest_time = None\n",
    "    for file in files:\n",
    "        file_time = datetime.strptime(file['lastModifiedDateTime'], '%Y-%m-%dT%H:%M:%SZ')\n",
    "        if not latest_time or file_time > latest_time:\n",
    "            latest_time = file_time\n",
    "            latest_file = file\n",
    "    return latest_file\n",
    "\n",
    "# Find the latest expense and budget files in the subfolder\n",
    "latest_expense_file = get_latest_file(files)\n",
    "\n",
    "print(\"\\nLatest Expense File:\")\n",
    "print(f\"{latest_expense_file['name']} - Last Modified: {latest_expense_file['lastModifiedDateTime']}\")\n"
   ]
  },
  {
   "cell_type": "code",
   "execution_count": 25,
   "metadata": {},
   "outputs": [],
   "source": [
    "latest_budget_file = files_budget[1]"
   ]
  },
  {
   "cell_type": "code",
   "execution_count": 16,
   "metadata": {},
   "outputs": [
    {
     "name": "stdout",
     "output_type": "stream",
     "text": [
      "Downloaded 2024-11-14.xlsx\n"
     ]
    }
   ],
   "source": [
    "def download_file(file, headers):\n",
    "    file_id = file['id']\n",
    "    download_url = f\"https://graph.microsoft.com/v1.0/me/drive/items/{file_id}/content\"\n",
    "    response = requests.get(download_url, headers=headers)\n",
    "    if response.status_code == 200:\n",
    "        filename = file['name']\n",
    "        with open(filename, 'wb') as f:\n",
    "            f.write(response.content)\n",
    "        print(f\"Downloaded {filename}\")\n",
    "        return filename\n",
    "    else:\n",
    "        print(f\"Failed to download {file['name']}\")\n",
    "        return None\n",
    "\n",
    "# Download your files\n",
    "expense_file_name = download_file(latest_expense_file, headers)"
   ]
  },
  {
   "cell_type": "code",
   "execution_count": 26,
   "metadata": {},
   "outputs": [
    {
     "name": "stdout",
     "output_type": "stream",
     "text": [
      "Downloaded 2024_budget_norway.xlsx\n"
     ]
    }
   ],
   "source": [
    "budget_file_name = download_file(latest_budget_file, headers)"
   ]
  },
  {
   "cell_type": "code",
   "execution_count": null,
   "metadata": {},
   "outputs": [],
   "source": [
    "expenses_df = pd.read_excel(expense_file_name)"
   ]
  },
  {
   "cell_type": "code",
   "execution_count": null,
   "metadata": {},
   "outputs": [],
   "source": [
    "expenses_df"
   ]
  },
  {
   "cell_type": "code",
   "execution_count": null,
   "metadata": {},
   "outputs": [],
   "source": []
  }
 ],
 "metadata": {
  "kernelspec": {
   "display_name": "myvirtualenvironment",
   "language": "python",
   "name": "python3"
  },
  "language_info": {
   "codemirror_mode": {
    "name": "ipython",
    "version": 3
   },
   "file_extension": ".py",
   "mimetype": "text/x-python",
   "name": "python",
   "nbconvert_exporter": "python",
   "pygments_lexer": "ipython3",
   "version": "3.12.7"
  }
 },
 "nbformat": 4,
 "nbformat_minor": 2
}
